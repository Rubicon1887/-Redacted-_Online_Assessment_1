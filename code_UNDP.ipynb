{
 "cells": [
  {
   "cell_type": "code",
   "execution_count": 1,
   "metadata": {},
   "outputs": [],
   "source": [
    "import pandas as pd\n",
    "import numpy as np\n",
    "import math\n",
    "from os import path\n",
    "from PIL import Image\n",
    "from wordcloud import WordCloud,STOPWORDS,ImageColorGenerator\n",
    "import matplotlib.pyplot as plt"
   ]
  },
  {
   "cell_type": "code",
   "execution_count": 2,
   "metadata": {},
   "outputs": [
    {
     "data": {
      "text/plain": [
       "Index(['data_id', 'iso', 'event_id_cnty', 'event_id_no_cnty', 'event_date',\n",
       "       'year', 'time_precision', 'event_type', 'sub_event_type', 'actor1',\n",
       "       'assoc_actor_1', 'inter1', 'actor2', 'assoc_actor_2', 'inter2',\n",
       "       'interaction', 'region', 'country', 'admin1', 'admin2', 'admin3',\n",
       "       'location', 'latitude', 'longitude', 'geo_precision', 'source',\n",
       "       'source_scale', 'notes', 'fatalities', 'timestamp', 'iso3'],\n",
       "      dtype='object')"
      ]
     },
     "execution_count": 2,
     "metadata": {},
     "output_type": "execute_result"
    }
   ],
   "source": [
    "df1=pd.read_csv('Nigeria2019_ACLED_Extract.csv')\n",
    "df1.columns"
   ]
  },
  {
   "cell_type": "code",
   "execution_count": null,
   "metadata": {},
   "outputs": [],
   "source": [
    "df2=pd.read_csv('Nigeria2019_Newsfeed.csv')\n",
    "df2.columns"
   ]
  },
  {
   "cell_type": "code",
   "execution_count": null,
   "metadata": {},
   "outputs": [],
   "source": [
    "#Q1B"
   ]
  },
  {
   "cell_type": "code",
   "execution_count": null,
   "metadata": {},
   "outputs": [],
   "source": [
    "df1"
   ]
  },
  {
   "cell_type": "code",
   "execution_count": null,
   "metadata": {},
   "outputs": [],
   "source": [
    "math.isnan(df1.actor2[0])"
   ]
  },
  {
   "cell_type": "code",
   "execution_count": null,
   "metadata": {},
   "outputs": [],
   "source": [
    "actors=set(df1.actor1)|set(df1.assoc_actor_1)|set(df1.actor2)|set(df1.assoc_actor_2)\n",
    "actor_cols=['actor1','actor2','assoc_actor_1','assoc_actor_2']\n",
    "event_count={}\n",
    "fatality_count={}\n",
    "for actor in actors:\n",
    "    event_count[actor]=0\n",
    "    fatality_count[actor]=0"
   ]
  },
  {
   "cell_type": "code",
   "execution_count": null,
   "metadata": {},
   "outputs": [],
   "source": [
    "for i in range(len(df1)):\n",
    "    for actor in actor_cols:\n",
    "        a=df1[actor][i]\n",
    "        event_count[a]+=1\n",
    "        fatality_count[a]+=df1.fatalities[i]"
   ]
  },
  {
   "cell_type": "code",
   "execution_count": null,
   "metadata": {},
   "outputs": [],
   "source": [
    "x=list(event_count.keys())[1]"
   ]
  },
  {
   "cell_type": "code",
   "execution_count": null,
   "metadata": {},
   "outputs": [],
   "source": [
    "event_count.pop(x)\n",
    "fatality_count.pop(x)"
   ]
  },
  {
   "cell_type": "code",
   "execution_count": null,
   "metadata": {},
   "outputs": [],
   "source": [
    "print(len(event_count),len(fatality_count))"
   ]
  },
  {
   "cell_type": "code",
   "execution_count": null,
   "metadata": {},
   "outputs": [],
   "source": [
    "A=list(event_count.keys())\n",
    "B=list(event_count.values())\n",
    "C=list(fatality_count.values())"
   ]
  },
  {
   "cell_type": "code",
   "execution_count": null,
   "metadata": {},
   "outputs": [],
   "source": [
    "df=pd.DataFrame(list(zip(A,B,C)),columns=['Actor','No. of events','No. of fatalities'])\n",
    "df"
   ]
  },
  {
   "cell_type": "code",
   "execution_count": null,
   "metadata": {},
   "outputs": [],
   "source": [
    "df[df['No. of events']>200]"
   ]
  },
  {
   "cell_type": "code",
   "execution_count": null,
   "metadata": {},
   "outputs": [],
   "source": [
    "df.to_csv('1B.csv')"
   ]
  },
  {
   "cell_type": "code",
   "execution_count": null,
   "metadata": {},
   "outputs": [],
   "source": [
    "#Q1A"
   ]
  },
  {
   "cell_type": "code",
   "execution_count": null,
   "metadata": {},
   "outputs": [],
   "source": [
    "events=set(df1.event_type)\n",
    "event_count={}\n",
    "for event in events:\n",
    "    event_count[event]=0\n",
    "\n",
    "for i in range(len(df1)):\n",
    "    event_count[df1.event_type[i]]+=1\n",
    "        \n",
    "event_count"
   ]
  },
  {
   "cell_type": "code",
   "execution_count": null,
   "metadata": {},
   "outputs": [],
   "source": [
    "df=pd.DataFrame(list(zip(event_count.keys(),event_count.values())),columns=['Event type','Count'])\n",
    "df"
   ]
  },
  {
   "cell_type": "code",
   "execution_count": null,
   "metadata": {},
   "outputs": [],
   "source": [
    "df.to_csv('1A.csv')"
   ]
  },
  {
   "cell_type": "code",
   "execution_count": null,
   "metadata": {},
   "outputs": [],
   "source": [
    "df1"
   ]
  },
  {
   "cell_type": "code",
   "execution_count": null,
   "metadata": {},
   "outputs": [],
   "source": [
    "#Q1C"
   ]
  },
  {
   "cell_type": "code",
   "execution_count": null,
   "metadata": {},
   "outputs": [],
   "source": [
    "#df1=df1[df1.event_type!='Strategic developments']"
   ]
  },
  {
   "cell_type": "code",
   "execution_count": null,
   "metadata": {
    "scrolled": true
   },
   "outputs": [],
   "source": [
    "locations=set(df1.location)\n",
    "fatality_count={}\n",
    "lat={}\n",
    "long={}\n",
    "\n",
    "for location in locations:\n",
    "    fatality_count[location]=[0,0,0]\n",
    "\n",
    "for i in range(len(df1)):\n",
    "    if df1.event_type[i]!='Strategic developments':\n",
    "        fatality_count[df1.location[i]][1]=df1.latitude[i]\n",
    "        fatality_count[df1.location[i]][2]=df1.longitude[i]\n",
    "        fatality_count[df1.location[i]][0]+=df1.fatalities[i]\n",
    "        \n",
    "fatality_count"
   ]
  },
  {
   "cell_type": "code",
   "execution_count": null,
   "metadata": {},
   "outputs": [],
   "source": [
    "df=pd.DataFrame(list(zip(fatality_count.keys(),fatality_count.values())),columns=['Location','Total fatalities'])\n",
    "df"
   ]
  },
  {
   "cell_type": "code",
   "execution_count": null,
   "metadata": {},
   "outputs": [],
   "source": [
    "df['Latitude']=df['Total fatalities'].map(lambda x:x[1])\n",
    "df['Longitude']=df['Total fatalities'].map(lambda x:x[2])\n",
    "df['Total fatalities']=df['Total fatalities'].map(lambda x:x[0])\n",
    "df=df[df.Latitude!=0]\n",
    "df"
   ]
  },
  {
   "cell_type": "code",
   "execution_count": null,
   "metadata": {},
   "outputs": [],
   "source": [
    "sum(df['Total fatalities'])"
   ]
  },
  {
   "cell_type": "code",
   "execution_count": null,
   "metadata": {},
   "outputs": [],
   "source": [
    "df[df['Total fatalities']>=70]"
   ]
  },
  {
   "cell_type": "code",
   "execution_count": null,
   "metadata": {},
   "outputs": [],
   "source": [
    "df.to_csv('1C.csv')"
   ]
  },
  {
   "cell_type": "code",
   "execution_count": null,
   "metadata": {},
   "outputs": [],
   "source": [
    "#Q1D"
   ]
  },
  {
   "cell_type": "code",
   "execution_count": null,
   "metadata": {},
   "outputs": [],
   "source": [
    "stopwords=list(STOPWORDS)+['mins','ago','say','says','new']\n",
    "wordcloud = WordCloud(stopwords=stopwords).generate(' '.join(list(df2.Newsfeed_Description)))\n",
    "\n",
    "plt.imshow(wordcloud,interpolation='bilinear')\n",
    "plt.axis(\"off\")\n",
    "plt.show()"
   ]
  },
  {
   "cell_type": "code",
   "execution_count": null,
   "metadata": {},
   "outputs": [],
   "source": [
    "#Q3"
   ]
  },
  {
   "cell_type": "code",
   "execution_count": null,
   "metadata": {},
   "outputs": [],
   "source": [
    "event_types=list(set(df1.event_type))\n",
    "var_Explosions_or_Remote_violence=0\n",
    "var_Protests=0\n",
    "var_Battles=0\n",
    "var_Riots=0\n",
    "var_Violence_against_civilians=0\n",
    "\n",
    "for i in range(len(df2)):\n",
    "    description=df2.Newsfeed_Description2[i]\n",
    "    \n",
    "    if 'explosion' in description or 'remote violence' in description:\n",
    "        var_Explosions_or_Remote_violence+=1\n",
    "    elif 'battle' in description:\n",
    "        var_Battles+=1\n",
    "    elif 'riot' in description:\n",
    "        var_Riots+=1\n",
    "    elif 'protest' in description:\n",
    "        var_Protests+=1\n",
    "    elif 'violence' in description and 'civilians' in description:\n",
    "        var_Violence_against_civilians+=1\n",
    "    \n",
    "print(var_Explosions_or_Remote_violence,var_Protests,var_Battles,var_Riots,var_Violence_against_civilians)"
   ]
  },
  {
   "cell_type": "code",
   "execution_count": null,
   "metadata": {},
   "outputs": [],
   "source": [
    "df2"
   ]
  },
  {
   "cell_type": "code",
   "execution_count": null,
   "metadata": {},
   "outputs": [],
   "source": [
    "l1=[87,622,545,183,660]\n",
    "l2=[712,784,341,101,24]\n",
    "from scipy.stats.stats import pearsonr  \n",
    "pearsonr(l1,l2)"
   ]
  },
  {
   "cell_type": "code",
   "execution_count": null,
   "metadata": {},
   "outputs": [],
   "source": [
    "#additional analysis - violence against civilians over the months"
   ]
  },
  {
   "cell_type": "code",
   "execution_count": null,
   "metadata": {},
   "outputs": [],
   "source": [
    "df1['Month']=df1['event_date'].map(lambda x:x[-6:-3])\n",
    "viol_df=df1[df1.event_type=='Violence against civilians']"
   ]
  },
  {
   "cell_type": "code",
   "execution_count": null,
   "metadata": {},
   "outputs": [],
   "source": [
    "for month in list(set(viol_df.Month)):\n",
    "    print(month,len(viol_df[viol_df.Month==month]))"
   ]
  },
  {
   "cell_type": "code",
   "execution_count": null,
   "metadata": {},
   "outputs": [],
   "source": [
    "#dditional analysis - Involvement of police vs military"
   ]
  },
  {
   "cell_type": "code",
   "execution_count": 9,
   "metadata": {},
   "outputs": [],
   "source": [
    "police='Police Forces of Nigeria (2015-)'\n",
    "military='Military Forces of Nigeria (2015-)'\n",
    "\n",
    "police_df=df1[(df1.actor1==police)|(df1.actor2==police)|(df1.assoc_actor_1==police)|(df1.assoc_actor_2==police)]\n",
    "military_df=df1[(df1.actor1==military)|(df1.actor2==military)|(df1.assoc_actor_1==military)|(df1.assoc_actor_2==military)]"
   ]
  },
  {
   "cell_type": "code",
   "execution_count": null,
   "metadata": {},
   "outputs": [],
   "source": [
    "milpo=pd.DataFrame(columns=['Event type','Military events','Police events'])\n",
    "milpo"
   ]
  },
  {
   "cell_type": "code",
   "execution_count": null,
   "metadata": {},
   "outputs": [],
   "source": [
    "for event in list(set(df1.event_type)):\n",
    "    len_po=len(police_df[police_df.event_type==event])\n",
    "    len_mil=len(military_df[military_df.event_type==event])\n",
    "    milpo.loc[len(milpo)]=[event,len_mil,len_po]"
   ]
  },
  {
   "cell_type": "code",
   "execution_count": null,
   "metadata": {},
   "outputs": [],
   "source": [
    "milpo"
   ]
  },
  {
   "cell_type": "code",
   "execution_count": null,
   "metadata": {},
   "outputs": [],
   "source": [
    "milpo.to_csv('extra1.csv')"
   ]
  },
  {
   "cell_type": "code",
   "execution_count": null,
   "metadata": {},
   "outputs": [],
   "source": [
    "#"
   ]
  },
  {
   "cell_type": "code",
   "execution_count": 10,
   "metadata": {},
   "outputs": [],
   "source": [
    "months=['Jan','Feb','Mar','Apr','May','Jun','Jul','Aug','Sep','Oct','Nov','Dec']"
   ]
  },
  {
   "cell_type": "code",
   "execution_count": 11,
   "metadata": {},
   "outputs": [
    {
     "data": {
      "text/html": [
       "<div>\n",
       "<style scoped>\n",
       "    .dataframe tbody tr th:only-of-type {\n",
       "        vertical-align: middle;\n",
       "    }\n",
       "\n",
       "    .dataframe tbody tr th {\n",
       "        vertical-align: top;\n",
       "    }\n",
       "\n",
       "    .dataframe thead th {\n",
       "        text-align: right;\n",
       "    }\n",
       "</style>\n",
       "<table border=\"1\" class=\"dataframe\">\n",
       "  <thead>\n",
       "    <tr style=\"text-align: right;\">\n",
       "      <th></th>\n",
       "      <th>Month</th>\n",
       "      <th>Military events</th>\n",
       "      <th>Police events</th>\n",
       "    </tr>\n",
       "  </thead>\n",
       "  <tbody>\n",
       "  </tbody>\n",
       "</table>\n",
       "</div>"
      ],
      "text/plain": [
       "Empty DataFrame\n",
       "Columns: [Month, Military events, Police events]\n",
       "Index: []"
      ]
     },
     "execution_count": 11,
     "metadata": {},
     "output_type": "execute_result"
    }
   ],
   "source": [
    "milpo1=pd.DataFrame(columns=['Month','Military events','Police events'])\n",
    "milpo1"
   ]
  },
  {
   "cell_type": "code",
   "execution_count": 12,
   "metadata": {},
   "outputs": [
    {
     "name": "stderr",
     "output_type": "stream",
     "text": [
      "C:\\ProgramData\\Anaconda3\\lib\\site-packages\\ipykernel_launcher.py:1: SettingWithCopyWarning: \n",
      "A value is trying to be set on a copy of a slice from a DataFrame.\n",
      "Try using .loc[row_indexer,col_indexer] = value instead\n",
      "\n",
      "See the caveats in the documentation: https://pandas.pydata.org/pandas-docs/stable/user_guide/indexing.html#returning-a-view-versus-a-copy\n",
      "  \"\"\"Entry point for launching an IPython kernel.\n",
      "C:\\ProgramData\\Anaconda3\\lib\\site-packages\\ipykernel_launcher.py:2: SettingWithCopyWarning: \n",
      "A value is trying to be set on a copy of a slice from a DataFrame.\n",
      "Try using .loc[row_indexer,col_indexer] = value instead\n",
      "\n",
      "See the caveats in the documentation: https://pandas.pydata.org/pandas-docs/stable/user_guide/indexing.html#returning-a-view-versus-a-copy\n",
      "  \n"
     ]
    }
   ],
   "source": [
    "police_df['Month']=police_df['event_date'].map(lambda x:x[-6:-3])\n",
    "military_df['Month']=military_df['event_date'].map(lambda x:x[-6:-3])"
   ]
  },
  {
   "cell_type": "code",
   "execution_count": 13,
   "metadata": {},
   "outputs": [],
   "source": [
    "police_df['Month']=police_df['event_date'].map(lambda x:x[-6:-3])\n",
    "military_df['Month']=military_df['event_date'].map(lambda x:x[-6:-3])\n",
    "\n",
    "for month in months:\n",
    "    len_po=len(police_df[police_df.Month==month])\n",
    "    len_mil=len(military_df[military_df.Month==month])\n",
    "    milpo1.loc[len(milpo1)]=[month,len_mil,len_po]"
   ]
  },
  {
   "cell_type": "code",
   "execution_count": 14,
   "metadata": {},
   "outputs": [
    {
     "data": {
      "text/html": [
       "<div>\n",
       "<style scoped>\n",
       "    .dataframe tbody tr th:only-of-type {\n",
       "        vertical-align: middle;\n",
       "    }\n",
       "\n",
       "    .dataframe tbody tr th {\n",
       "        vertical-align: top;\n",
       "    }\n",
       "\n",
       "    .dataframe thead th {\n",
       "        text-align: right;\n",
       "    }\n",
       "</style>\n",
       "<table border=\"1\" class=\"dataframe\">\n",
       "  <thead>\n",
       "    <tr style=\"text-align: right;\">\n",
       "      <th></th>\n",
       "      <th>Month</th>\n",
       "      <th>Military events</th>\n",
       "      <th>Police events</th>\n",
       "    </tr>\n",
       "  </thead>\n",
       "  <tbody>\n",
       "    <tr>\n",
       "      <th>0</th>\n",
       "      <td>Jan</td>\n",
       "      <td>62</td>\n",
       "      <td>15</td>\n",
       "    </tr>\n",
       "    <tr>\n",
       "      <th>1</th>\n",
       "      <td>Feb</td>\n",
       "      <td>39</td>\n",
       "      <td>14</td>\n",
       "    </tr>\n",
       "    <tr>\n",
       "      <th>2</th>\n",
       "      <td>Mar</td>\n",
       "      <td>23</td>\n",
       "      <td>25</td>\n",
       "    </tr>\n",
       "    <tr>\n",
       "      <th>3</th>\n",
       "      <td>Apr</td>\n",
       "      <td>25</td>\n",
       "      <td>28</td>\n",
       "    </tr>\n",
       "    <tr>\n",
       "      <th>4</th>\n",
       "      <td>May</td>\n",
       "      <td>40</td>\n",
       "      <td>16</td>\n",
       "    </tr>\n",
       "    <tr>\n",
       "      <th>5</th>\n",
       "      <td>Jun</td>\n",
       "      <td>39</td>\n",
       "      <td>8</td>\n",
       "    </tr>\n",
       "    <tr>\n",
       "      <th>6</th>\n",
       "      <td>Jul</td>\n",
       "      <td>26</td>\n",
       "      <td>18</td>\n",
       "    </tr>\n",
       "    <tr>\n",
       "      <th>7</th>\n",
       "      <td>Aug</td>\n",
       "      <td>22</td>\n",
       "      <td>16</td>\n",
       "    </tr>\n",
       "    <tr>\n",
       "      <th>8</th>\n",
       "      <td>Sep</td>\n",
       "      <td>26</td>\n",
       "      <td>25</td>\n",
       "    </tr>\n",
       "    <tr>\n",
       "      <th>9</th>\n",
       "      <td>Oct</td>\n",
       "      <td>27</td>\n",
       "      <td>13</td>\n",
       "    </tr>\n",
       "    <tr>\n",
       "      <th>10</th>\n",
       "      <td>Nov</td>\n",
       "      <td>30</td>\n",
       "      <td>18</td>\n",
       "    </tr>\n",
       "    <tr>\n",
       "      <th>11</th>\n",
       "      <td>Dec</td>\n",
       "      <td>48</td>\n",
       "      <td>11</td>\n",
       "    </tr>\n",
       "  </tbody>\n",
       "</table>\n",
       "</div>"
      ],
      "text/plain": [
       "   Month Military events Police events\n",
       "0    Jan              62            15\n",
       "1    Feb              39            14\n",
       "2    Mar              23            25\n",
       "3    Apr              25            28\n",
       "4    May              40            16\n",
       "5    Jun              39             8\n",
       "6    Jul              26            18\n",
       "7    Aug              22            16\n",
       "8    Sep              26            25\n",
       "9    Oct              27            13\n",
       "10   Nov              30            18\n",
       "11   Dec              48            11"
      ]
     },
     "execution_count": 14,
     "metadata": {},
     "output_type": "execute_result"
    }
   ],
   "source": [
    "milpo1"
   ]
  },
  {
   "cell_type": "code",
   "execution_count": 17,
   "metadata": {},
   "outputs": [],
   "source": [
    "milpo1.to_csv('extra2.csv')"
   ]
  },
  {
   "cell_type": "code",
   "execution_count": null,
   "metadata": {},
   "outputs": [],
   "source": []
  }
 ],
 "metadata": {
  "kernelspec": {
   "display_name": "Python 3",
   "language": "python",
   "name": "python3"
  },
  "language_info": {
   "codemirror_mode": {
    "name": "ipython",
    "version": 3
   },
   "file_extension": ".py",
   "mimetype": "text/x-python",
   "name": "python",
   "nbconvert_exporter": "python",
   "pygments_lexer": "ipython3",
   "version": "3.7.4"
  }
 },
 "nbformat": 4,
 "nbformat_minor": 2
}
